{
  "metadata": {
    "kernelspec": {
      "display_name": "Python 3",
      "language": "python",
      "name": "python3"
    },
    "language_info": {
      "codemirror_mode": {
        "name": "ipython",
        "version": 3
      },
      "file_extension": ".py",
      "mimetype": "text/x-python",
      "name": "python",
      "nbconvert_exporter": "python",
      "pygments_lexer": "ipython3",
      "version": "3.5.2"
    }
  },
  "nbformat": 4,
  "nbformat_minor": 0,
  "cells": [
    {
      "cell_type": "markdown",
      "metadata": {
        "_cell_guid": "773c200f-8737-f0ec-8237-2ac523e397e5",
        "_active": false
      },
      "source": null,
      "execution_count": null,
      "outputs": [],
      "execution_state": "idle"
    },
    {
      "cell_type": "code",
      "execution_count": null,
      "metadata": {
        "_cell_guid": "ca94656a-3ee7-5d87-912d-dce3ae832a93",
        "_active": true
      },
      "outputs": [],
      "source": "import os \nfrom scipy import ndimage\nfrom subprocess import check_output\n\nimport cv2\nimport numpy as np\nfrom matplotlib import pyplot as plt\n%matplotlib inline",
      "execution_state": "idle"
    },
    {
      "cell_type": "markdown",
      "metadata": {
        "_cell_guid": "8db5c77b-b702-cf61-6012-458589371d1c",
        "_active": false
      },
      "source": null,
      "execution_count": null,
      "outputs": [],
      "execution_state": "idle"
    },
    {
      "cell_type": "code",
      "execution_count": null,
      "metadata": {
        "_cell_guid": "94a6bdb6-b685-330a-1a83-9f3f2d1af12b",
        "_active": false
      },
      "outputs": [],
      "source": "img_rows, img_cols= 720, 1280\nim_array = cv2.imread('../input/train/LAG/img_02236.jpg',0)\ntemplate = np.zeros([ img_rows, img_cols], dtype='uint8') # initialisation of the template\ntemplate[:, :] = im_array[:,:] # I try multiple times to find the correct rectangle. \n#template /= 255.\nmax_d = 5\nblur_d = 10\nmin_d = 1\n\ntg_d = min_d\ntg_wt = (2*tg_d+1)*(2*tg_d+1)\n\nfor i in range(tg_d, img_rows - tg_d - 1):\n    for j in range(tg_d, img_cols - tg_d -1):\n        #print(np.max(im_array[(i-d):(i+d), (j-d):(j+d)]))\n        template[i, j] = np.sum(im_array[(i-tg_d):(i+tg_d), (j-tg_d):(j+tg_d)])/tg_wt\n        #template[i, j] = np.max(im_array[(i-max_d):(i+max_d), (j-max_d):(j+max_d)]) - np.max(im_array[(i-min_d):(i+min_d), (j-min_d):(j+min_d)])\n\nfor i in range(max_d, img_rows - max_d - 1):\n    for j in range(max_d, img_cols - max_d -1):\n        #print(np.max(im_array[(i-d):(i+d), (j-d):(j+d)]))\n        #template[i, j] = np.sum(im_array[(i-tg_d):(i+tg_d), (j-tg_d):(j+tg_d)])/tg_wt\n        maxc = np.max(template[(i-max_d):(i+max_d), (j-max_d):(j+max_d)])\n        minc = np.min(template[(i-min_d):(i+min_d), (j-min_d):(j+min_d)])\n        template[i, j] =  (maxc-minc)*255.0/maxc\n        #template[i, j] = np.max(template[(i-max_d):(i+max_d), (j-max_d):(j+max_d)]) - template[i, j]\nplt.subplots(figsize=(100, 70))\nplt.subplot(121),plt.imshow(template, cmap='gray') \nplt.subplot(122), plt.imshow(im_array, cmap='gray')",
      "execution_state": "idle"
    },
    {
      "cell_type": "markdown",
      "metadata": {
        "_cell_guid": "21fbe05f-2175-72d7-32b2-a1d5606ac391",
        "_active": false
      },
      "source": null,
      "execution_count": null,
      "outputs": [],
      "execution_state": "idle"
    },
    {
      "cell_type": "code",
      "execution_count": null,
      "metadata": {
        "_cell_guid": "894dfaaa-b673-6f85-cec5-447379ec59e1",
        "_active": false
      },
      "outputs": [],
      "source": "\nfile_name = '../input/train/LAG/img_01512.jpg' # img_00176,img_02758, img_01512\nimg = cv2.imread(file_name,0) \nimg2 = img\nw, h = template.shape[::-1]\n\n# All the 6 methods for comparison in a list\nmethods = ['cv2.TM_CCOEFF', 'cv2.TM_CCOEFF_NORMED', 'cv2.TM_CCORR',\n            'cv2.TM_CCORR_NORMED', 'cv2.TM_SQDIFF', 'cv2.TM_SQDIFF_NORMED']\n\nfor meth in methods:\n     img = img2\n     method = eval(meth)\n \n     # Apply template Matching\n     res = cv2.matchTemplate(img,template,method)\n     min_val, max_val, min_loc, max_loc = cv2.minMaxLoc(res)\n \n     # If the method is TM_SQDIFF or TM_SQDIFF_NORMED, take minimum\n     if method in [cv2.TM_SQDIFF, cv2.TM_SQDIFF_NORMED]:\n         top_left = min_loc\n     else:\n         top_left = max_loc\n     bottom_right = (top_left[0] + w, top_left[1] + h)\n \n     cv2.rectangle(img,top_left, bottom_right, 255, 2)\n     fig, ax = plt.subplots(figsize=(12, 7))\n     plt.subplot(121),plt.imshow(res,cmap = 'gray')\n     plt.title('Matching Result'), plt.xticks([]), plt.yticks([])\n     plt.subplot(122),plt.imshow(img,cmap = 'gray') #,aspect='auto'\n     plt.title('Detected Point'), plt.xticks([]), plt.yticks([])\n     plt.suptitle(meth)\n \n     plt.show()",
      "execution_state": "idle"
    },
    {
      "cell_type": "markdown",
      "metadata": {
        "_cell_guid": "18f39ded-64d6-234c-10c9-c6a76250a5d9",
        "_active": false
      },
      "source": null,
      "execution_count": null,
      "outputs": [],
      "execution_state": "idle"
    },
    {
      "cell_type": "code",
      "execution_count": null,
      "metadata": {
        "_cell_guid": "7544c485-55fb-f259-3b39-ffae209830b6",
        "_active": false
      },
      "outputs": [],
      "source": "\nmethod = eval('cv2.TM_CCOEFF')\nindexes=[1,30,40,5]\n\ntrain_path = \"../input/train/\"\nsub_folders = check_output([\"ls\", train_path]).decode(\"utf8\").strip().split('\\n')\nfor sub_folder in sub_folders:\n    file_names = check_output([\"ls\", train_path+sub_folder]).decode(\"utf8\").strip().split('\\n')\n    k=0\n    _, ax = plt.subplots(2,2,figsize=(10, 7))\n    for file_name in [file_names[x] for x in indexes]: # I take only 4 images of each group. \n        img = cv2.imread(train_path+sub_folder+\"/\"+file_name,0)\n        img2 = img\n        w, h = template.shape[::-1]\n        # Apply template Matching\n        res = cv2.matchTemplate(img,template,method)\n        min_val, max_val, min_loc, max_loc = cv2.minMaxLoc(res)\n        top_left = max_loc\n        bottom_right = (top_left[0] + w, top_left[1] + h)\n \n        cv2.rectangle(img,top_left, bottom_right, 255, 2)\n        if k==0 : \n            ax[0,0].imshow(img,cmap = 'gray')\n            plt.xticks([]), plt.yticks([])\n        if k==1 : \n            ax[0,1].imshow(img,cmap = 'gray')\n            plt.xticks([]), plt.yticks([])\n        if k==2 : \n            ax[1,0].imshow(img,cmap = 'gray')\n            plt.xticks([]), plt.yticks([])\n        if k==3 : \n            ax[1,1].imshow(img,cmap = 'gray')\n            plt.xticks([]), plt.yticks([])\n        k=k+1\n    plt.suptitle(sub_folder)\n    plt.show()",
      "execution_state": "idle"
    },
    {
      "cell_type": "markdown",
      "metadata": {
        "_cell_guid": "dfc3884a-6214-0ec9-6b0f-2671acbada7e",
        "_active": false
      },
      "source": "### Remark :\nAs we can see, with a LAG template, we almost find all the LAG fish. This is good point. \nThe other good point is that we don't find in our rectangle the other fish. Now the idea is to create the other template and do it for all the images. ",
      "execution_count": null,
      "outputs": [],
      "execution_state": "idle"
    },
    {
      "cell_type": "markdown",
      "metadata": {
        "_cell_guid": "66bda0fa-2612-23ff-dea5-5d3a149490c7",
        "_active": false
      },
      "source": "# Part 2\n\n### Soon.... ",
      "execution_count": null,
      "outputs": [],
      "execution_state": "idle"
    },
    {
      "cell_type": "markdown",
      "metadata": {
        "_cell_guid": "4409dd49-a99e-206a-ec1c-397ee7f475a1",
        "_active": false
      },
      "source": "\nOn the same way, the goal is to detect the fish in an image. \n\nThere exist a method to find Shapes in an image. ([*tutorial*](http://www.pyimagesearch.com/2014/10/20/finding-shapes-images-using-python-opencv/))",
      "execution_count": null,
      "outputs": [],
      "execution_state": "idle"
    },
    {
      "cell_type": "code",
      "execution_count": null,
      "metadata": {
        "_cell_guid": "e1e99324-d020-96d7-cd94-c038e858c542",
        "_active": false
      },
      "outputs": [],
      "source": null,
      "execution_state": "idle"
    }
  ]
}