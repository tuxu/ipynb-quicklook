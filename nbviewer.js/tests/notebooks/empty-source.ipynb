{
  "cells": [
    {
      "metadata": {},
      "cell_type": "markdown",
      "source": "# Python 3 - Tic Tac Toe\n\nAuthor : Arunpandian Murugan\n\nEmail ID : arunpandian.murugan@outlook.com"
    },
    {
      "metadata": {},
      "cell_type": "markdown",
      "source": "# Display Board"
    },
    {
      "metadata": {
        "trusted": true
      },
      "cell_type": "code",
      "source": "def display_board(my_board_entry):\n    print('     |     |    \\n  {0}  |  {1}  |  {2}  \\n     |     |    \\n-----------------\\n     |     |    \\n  {3}  |  {4}  |  {5}  \\n     |     |    \\n-----------------\\n     |     |    \\n  {6}  |  {7}  |  {8}  \\n     |     |    \\n'.format(my_board_entry[0], my_board_entry[1], my_board_entry[2], my_board_entry[3], my_board_entry[4], my_board_entry[5], my_board_entry[6], my_board_entry[7], my_board_entry[8]))",
      "execution_count": 7,
      "outputs": []
    },
    {
      "metadata": {},
      "cell_type": "markdown",
      "source": "# Get User Input"
    },
    {
      "metadata": {
        "trusted": true
      },
      "cell_type": "code",
      "source": "def get_user_input(player1, player2, int_turn_counter, list_board_entry):\n    \n    #Variable Initialisation\n    list_player_symbol = []\n    list_player_symbol.append(player1)\n    list_player_symbol.append(player2)\n    list_input = []\n    flag_get_input = 'Y'\n    \n    while(flag_get_input.upper() == 'Y'):\n        int_board_position = int(input('Player {} --> {}, Enter the valid position number...\\t'.format((int_turn_counter%2)+1, list_player_symbol[int_turn_counter%2])))\n        \n        if((int_board_position > 0) and (int_board_position < 10)):\n            #validation check\n            if(list_board_entry[int_board_position - 1] == ' '):\n                list_input.append(int_board_position)\n                list_input.append(list_player_symbol[int_turn_counter%2])\n                return(list_input)\n            else:\n                print('Entered position is already filled, so kindly provide some other free position...\\n')\n                flag_get_input = input('Do want to continue ...[Y/N]\\t ')\n                if(flag_get_input.upper() == 'N'):\n                    list_input.append('End')\n                    return(list_input)\n        \n        elif((int_board_position < 0) or (int_board_position > 10)):\n            print('Invalid position number | kindly enter the position between 1 to 9...\\n')\n            flag_get_input = input('Do want to continue ...[Y/N]\\t ')\n            if(flag_get_input.upper() == 'N'):\n                list_input.append('End')\n                return(list_input)",
      "execution_count": null,
      "outputs": []
    },
    {
      "metadata": {},
      "cell_type": "markdown",
      "source": "# Clear Cell"
    },
    {
      "metadata": {
        "trusted": true
      },
      "cell_type": "code",
      "source": "def clear_cell():\n    from IPython.display import clear_output\n    \n    for i in range(2):\n        clear_output()\n        \n    ##import time\n    ##time.sleep(2) ",
      "execution_count": 9,
      "outputs": []
    },
    {
      "metadata": {},
      "cell_type": "markdown",
      "source": "## Core Algorithm"
    },
    {
      "metadata": {
        "trusted": true
      },
      "cell_type": "code",
      "source": "def core_algorithm(list_board_entry):\n    #variable initialise\n    temp_list_board_entry = list_board_entry.copy()\n\n    if(temp_list_board_entry.count('X') >= 3):\n        if(temp_list_board_entry[0:3].count('X') == 3 or temp_list_board_entry[3:6].count('X') == 3 or temp_list_board_entry[6:9].count('X') == 3 or (temp_list_board_entry[0] == 'X' and temp_list_board_entry[4] == 'X' and temp_list_board_entry[8] == 'X') or (temp_list_board_entry[2] == 'X' and temp_list_board_entry[4] == 'X' and temp_list_board_entry[6] == 'X') ):\n            print('Hurrah!!! Player 1 Won...')\n            return 'End'\n        \n    elif(temp_list_board_entry[0:3].count('O') == 3 or temp_list_board_entry[3:6].count('O') == 3 or temp_list_board_entry[6:9].count('O') == 3 or (temp_list_board_entry[0] == 'O' and temp_list_board_entry[4] == 'O' and temp_list_board_entry[8] == 'O') or (temp_list_board_entry[2] == 'O' and temp_list_board_entry[4] == 'O' and temp_list_board_entry[6] == 'O') ):\n        if(tuple(temp_list) in dump_set):\n            print('Hurrah!!! Player 2 Won...')\n            return 'End'\n",
      "execution_count": 10,
      "outputs": []
    },
    {
      "metadata": {},
      "cell_type": "markdown",
      "source": "# Driver Code"
    },
    {
      "metadata": {
        "trusted": true
      },
      "cell_type": "code",
      "source": "def tic_tac_toe_main():\n    \n    #Initalise Flag\n    continue_flag = 'Y'\n    \n    while(continue_flag.upper() == 'Y'):\n        \n        #Reset the Flag\n        continue_flag = ''\n        \n        #Variable Initialisation\n        int_turn_counter = 0\n        list_board_entry = [\" \", \" \", \" \", \" \", \" \", \" \", \" \", \" \", \" \" ]\n    \n        print(\"Welcome to Arun's Tic Tac Toe Game using Python 3\\n\")\n    \n        #Select X or O\n        player_choice = input('Player 1, do you want to be X or O...\\t')\n    \n        if(player_choice.upper() == 'X'):\n    \n            #iterating through game\n            print('Player 1 --> X \\nPlayer 2 --> O')\n            while(int_turn_counter < 9):\n                list_input = get_user_input('X', 'O', int_turn_counter, list_board_entry)\n            \n                if(list_input[0] == 'End'):\n                    break\n                    \n                #Displaying the updated board...   \n                list_board_entry[int(list_input[0]) -1] = list_input[1]\n                clear_cell()\n                display_board(list_board_entry)\n            \n                flag = core_algorithm(list_board_entry) \n                if(flag == 'End'):\n                    break\n                \n                int_turn_counter += 1 \n         \n        elif(player_choice.upper() == 'O'):\n        \n            #iterating through game\n            print('Player 1 --> O \\nPlayer 2 --> X')\n            while(int_turn_counter < 9):\n                list_input = get_user_input('O', 'X', int_turn_counter, list_board_entry)\n                \n                if(list_input[0] == 'End'):\n                    break\n                    \n                #Displaying the updated board...\n                list_board_entry[int(list_input[0]) - 1] = list_input[1]\n                clear_cell()\n                display_board(list_board_entry)\n            \n                flag = core_algorithm(list_board_entry) \n                if(flag == 'End'):\n                    break\n                \n                int_turn_counter += 1 \n            \n        else:\n            print('Invalid Symbol selection...Exiting')\n    \n        if(list_input[0] == 'End' or flag == 'End'):\n            continue_flag = 'N'\n        else:\n            continue_flag = input('Do want to continue ...[Y/N]\\t ')",
      "execution_count": 11,
      "outputs": []
    },
    {
      "metadata": {
        "trusted": true
      },
      "cell_type": "code",
      "source": "tic_tac_toe_main()",
      "execution_count": null,
      "outputs": [
        {
          "output_type": "stream",
          "text": "     |     |    \n     |     |     \n     |     |    \n-----------------\n     |     |    \n     |  X  |  O  \n     |     |    \n-----------------\n     |     |    \n     |     |     \n     |     |    \n\n",
          "name": "stdout"
        }
      ]
    },
    {
      "metadata": {
        "trusted": true
      },
      "cell_type": "code",
      "source": "",
      "execution_count": null,
      "outputs": []
    }
  ],
  "metadata": {
    "kernelspec": {
      "name": "python3",
      "display_name": "Python 3",
      "language": "python"
    },
    "language_info": {
      "mimetype": "text/x-python",
      "nbconvert_exporter": "python",
      "name": "python",
      "pygments_lexer": "ipython3",
      "version": "3.5.4",
      "file_extension": ".py",
      "codemirror_mode": {
        "version": 3,
        "name": "ipython"
      }
    }
  },
  "nbformat": 4,
  "nbformat_minor": 1
}