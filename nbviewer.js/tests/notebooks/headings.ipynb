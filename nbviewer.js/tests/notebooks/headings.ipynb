{
 "metadata": {
  "name": "",
  "signature": "sha256:c05a3fedc7549d209ef933f31aef324d989659f8f1e3525e2d32fd0854902ed6"
 },
 "nbformat": 3,
 "nbformat_minor": 0,
 "worksheets": [
  {
   "cells": [
    {
     "cell_type": "heading",
     "level": 1,
     "metadata": {},
     "source": [
      "Tutorial Brief"
     ]
    },
    {
     "cell_type": "markdown",
     "metadata": {},
     "source": [
      "This tutorial covers the basics of contrlling the layout of IPython widgets.\n",
      "\n",
      "We will be using the following functions to do that.\n",
      "\n",
      "- display()\n",
      "- widget.add_class()\n",
      "- widget.set_css()\n",
      "\n",
      "Video Tutorial:\n",
      "\n",
      "https://www.youtube.com/watch?v=8v7gVQlHJ-g"
     ]
    },
    {
     "cell_type": "heading",
     "level": 3,
     "metadata": {},
     "source": [
      "Import the library"
     ]
    },
    {
     "cell_type": "code",
     "collapsed": false,
     "input": [
      "from IPython.html import widgets\n",
      "from IPython.display import display"
     ],
     "language": "python",
     "metadata": {},
     "outputs": [],
     "prompt_number": 1
    },
    {
     "cell_type": "heading",
     "level": 5,
     "metadata": {},
     "source": [
      "Default Layout `\"vbox\"` class"
     ]
    },
    {
     "cell_type": "markdown",
     "metadata": {},
     "source": [
      "By default a container will have a `\"vbox\"` css class added to it."
     ]
    },
    {
     "cell_type": "code",
     "collapsed": false,
     "input": [
      "v_container = widgets.ContainerWidget()\n",
      "\n",
      "# Define Widgets\n",
      "for counter in range(5):\n",
      "    wgt_check = widgets.CheckboxWidget()\n",
      "    wgt_text = widgets.TextWidget(description=\"Name\")\n",
      "    wgt_select = widgets.DropdownWidget(values=[\"Guest\", \"User\", \"Admin\"])\n",
      "\n",
      "    # Add Widgets\n",
      "    v_container.children += (wgt_check, wgt_text, wgt_select)\n",
      "\n",
      "wgt_button = widgets.ButtonWidget(description=\"Submit\")\n",
      "v_container.children += (wgt_button,)\n",
      "\n",
      "# Display the container\n",
      "display(v_container)"
     ],
     "language": "python",
     "metadata": {},
     "outputs": [],
     "prompt_number": 2
    },
    {
     "cell_type": "heading",
     "level": 3,
     "metadata": {},
     "source": [
      "Horizontal Layout with `\"hbox\"` class"
     ]
    },
    {
     "cell_type": "code",
     "collapsed": false,
     "input": [
      "v_container = widgets.ContainerWidget()\n",
      "\n",
      "# Display the container\n",
      "display(v_container)\n",
      "\n",
      "# Define Widgets\n",
      "for counter in range(5):\n",
      "    wgt_check = widgets.CheckboxWidget()\n",
      "    wgt_text = widgets.TextWidget(description=\"Name\")\n",
      "    wgt_select = widgets.DropdownWidget(values=[\"Guest\", \"User\", \"Admin\"])\n",
      "\n",
      "    # Add Widgets\n",
      "    h_container = widgets.ContainerWidget()\n",
      "    h_container.children += (wgt_check, wgt_text, wgt_select)\n",
      "    v_container.children += (h_container,)\n",
      "    \n",
      "    # Change css class of the container\n",
      "    h_container.remove_class('vbox')\n",
      "    h_container.add_class('hbox')\n",
      "\n",
      "wgt_button = widgets.ButtonWidget(description=\"Submit\")\n",
      "v_container.children += (wgt_button,)"
     ],
     "language": "python",
     "metadata": {},
     "outputs": [],
     "prompt_number": 3
    }
   ],
   "metadata": {}
  }
 ]
}
