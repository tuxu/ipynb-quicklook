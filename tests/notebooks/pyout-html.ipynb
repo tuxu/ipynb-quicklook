{
 "metadata": {
  "name": "",
  "signature": "sha256:7144d40b448e5eefe830bed388c14e9e07bee9084aeefed67448abe0329fe191"
 },
 "nbformat": 3,
 "nbformat_minor": 0,
 "worksheets": [
  {
   "cells": [
    {
     "cell_type": "code",
     "collapsed": false,
     "input": [
      "%matplotlib inline\n",
      "import matplotlib.pyplot as plt\n",
      "import numpy as np\n",
      "%precision 4\n",
      "import os, sys, glob"
     ],
     "language": "python",
     "metadata": {},
     "outputs": [],
     "prompt_number": 1
    },
    {
     "cell_type": "markdown",
     "metadata": {},
     "source": [
      "## Using SQLite3\n",
      "\n",
      "Willl change this to use the same example for queries and schema design\n",
      "\n",
      "* Subjects - Ann, Bob, Charlie\n",
      "* Tests - Liver function, Complete blood count\n",
      "* Test parameters - AST, ALT, RBC, platelets, WBC (may perform all or only subset of parameters)\n",
      "* Diffrent number of visits, different number of tests per visit"
     ]
    },
    {
     "cell_type": "markdown",
     "metadata": {},
     "source": [
      "### Working example dataset\n",
      "\n",
      "This data contains the survival time after receiving a heart transplant, the age of the patient and whether or not the survival time was censored \n",
      "\n",
      "* Number of Observations - 69\n",
      "* Number of Variables - 3\n",
      "\n",
      "Variable name definitions::\n",
      "*    death - Days after surgery until death\n",
      "*    age - age at the time of surgery\n",
      "*    censored - indicates if an observation is censored.  1 is uncensored"
     ]
    },
    {
     "cell_type": "code",
     "collapsed": false,
     "input": [
      "import statsmodels.api as sm\n",
      "heart = sm.datasets.heart.load_pandas().data\n",
      "heart.take(np.random.choice(len(heart), 6))"
     ],
     "language": "python",
     "metadata": {},
     "outputs": [
      {
       "html": [
        "<div style=\"max-height:1000px;max-width:1500px;overflow:auto;\">\n",
        "<table border=\"1\" class=\"dataframe\">\n",
        "  <thead>\n",
        "    <tr style=\"text-align: right;\">\n",
        "      <th></th>\n",
        "      <th>survival</th>\n",
        "      <th>censors</th>\n",
        "      <th>age</th>\n",
        "    </tr>\n",
        "  </thead>\n",
        "  <tbody>\n",
        "    <tr>\n",
        "      <th>32</th>\n",
        "      <td>  147</td>\n",
        "      <td> 1</td>\n",
        "      <td> 47.5</td>\n",
        "    </tr>\n",
        "    <tr>\n",
        "      <th>67</th>\n",
        "      <td>   13</td>\n",
        "      <td> 0</td>\n",
        "      <td> 28.9</td>\n",
        "    </tr>\n",
        "    <tr>\n",
        "      <th>49</th>\n",
        "      <td>  499</td>\n",
        "      <td> 0</td>\n",
        "      <td> 52.2</td>\n",
        "    </tr>\n",
        "    <tr>\n",
        "      <th>24</th>\n",
        "      <td> 1367</td>\n",
        "      <td> 0</td>\n",
        "      <td> 48.6</td>\n",
        "    </tr>\n",
        "    <tr>\n",
        "      <th>20</th>\n",
        "      <td>   54</td>\n",
        "      <td> 1</td>\n",
        "      <td> 49.0</td>\n",
        "    </tr>\n",
        "    <tr>\n",
        "      <th>1 </th>\n",
        "      <td>    3</td>\n",
        "      <td> 1</td>\n",
        "      <td> 40.4</td>\n",
        "    </tr>\n",
        "  </tbody>\n",
        "</table>\n",
        "</div>"
       ],
       "metadata": {},
       "output_type": "pyout",
       "prompt_number": 2,
       "text": [
        "    survival  censors   age\n",
        "32       147        1  47.5\n",
        "67        13        0  28.9\n",
        "49       499        0  52.2\n",
        "24      1367        0  48.6\n",
        "20        54        1  49.0\n",
        "1          3        1  40.4"
       ]
      }
     ],
     "prompt_number": 2
    },
    {
     "cell_type": "code",
     "collapsed": false,
     "input": [
      "table_df = pd.read_hdf('dump.h5', 'tables')\n",
      "table_df"
     ],
     "language": "python",
     "metadata": {},
     "outputs": [
      {
       "html": [
        "<div style=\"max-height:1000px;max-width:1500px;overflow:auto;\">\n",
        "<table border=\"1\" class=\"dataframe\">\n",
        "  <thead>\n",
        "    <tr style=\"text-align: right;\">\n",
        "      <th></th>\n",
        "      <th>Name</th>\n",
        "      <th>Value</th>\n",
        "      <th>Age</th>\n",
        "    </tr>\n",
        "  </thead>\n",
        "  <tbody>\n",
        "    <tr>\n",
        "      <th>0</th>\n",
        "      <td> a</td>\n",
        "      <td> 5</td>\n",
        "      <td>  0</td>\n",
        "    </tr>\n",
        "    <tr>\n",
        "      <th>1</th>\n",
        "      <td> c</td>\n",
        "      <td> 6</td>\n",
        "      <td> 10</td>\n",
        "    </tr>\n",
        "    <tr>\n",
        "      <th>2</th>\n",
        "      <td> e</td>\n",
        "      <td> 9</td>\n",
        "      <td> 20</td>\n",
        "    </tr>\n",
        "    <tr>\n",
        "      <th>3</th>\n",
        "      <td> a</td>\n",
        "      <td> 5</td>\n",
        "      <td>  0</td>\n",
        "    </tr>\n",
        "    <tr>\n",
        "      <th>4</th>\n",
        "      <td> c</td>\n",
        "      <td> 6</td>\n",
        "      <td> 10</td>\n",
        "    </tr>\n",
        "    <tr>\n",
        "      <th>5</th>\n",
        "      <td> e</td>\n",
        "      <td> 9</td>\n",
        "      <td> 20</td>\n",
        "    </tr>\n",
        "  </tbody>\n",
        "</table>\n",
        "</div>"
       ],
       "metadata": {},
       "output_type": "pyout",
       "prompt_number": 64,
       "text": [
        "  Name  Value  Age\n",
        "0    a      5    0\n",
        "1    c      6   10\n",
        "2    e      9   20\n",
        "3    a      5    0\n",
        "4    c      6   10\n",
        "5    e      9   20"
       ]
      }
     ],
     "prompt_number": 64
    },
    {
     "cell_type": "code",
     "collapsed": false,
     "input": [
      "store.close()"
     ],
     "language": "python",
     "metadata": {},
     "outputs": [],
     "prompt_number": 68
    },
    {
     "cell_type": "code",
     "collapsed": false,
     "input": [],
     "language": "python",
     "metadata": {},
     "outputs": []
    }
   ],
   "metadata": {}
  }
 ]
}